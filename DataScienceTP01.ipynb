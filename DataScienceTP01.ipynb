{
  "nbformat": 4,
  "nbformat_minor": 0,
  "metadata": {
    "colab": {
      "provenance": [],
      "authorship_tag": "ABX9TyMskpPYios3N1+s/0BsJwkm",
      "include_colab_link": true
    },
    "kernelspec": {
      "name": "python3",
      "display_name": "Python 3"
    },
    "language_info": {
      "name": "python"
    }
  },
  "cells": [
    {
      "cell_type": "markdown",
      "metadata": {
        "id": "view-in-github",
        "colab_type": "text"
      },
      "source": [
        "<a href=\"https://colab.research.google.com/github/SaYanZz0/100-Days-Of-ML-Code/blob/master/DataScienceTP01.ipynb\" target=\"_parent\"><img src=\"https://colab.research.google.com/assets/colab-badge.svg\" alt=\"Open In Colab\"/></a>"
      ]
    },
    {
      "cell_type": "code",
      "source": [
        "import numpy as np"
      ],
      "metadata": {
        "id": "XEdmGPqZ0i9q"
      },
      "execution_count": null,
      "outputs": []
    },
    {
      "cell_type": "code",
      "execution_count": null,
      "metadata": {
        "colab": {
          "base_uri": "https://localhost:8080/"
        },
        "id": "MtypYYGa0VVG",
        "outputId": "18191ca6-f2a8-4965-adca-e49a36ea894a"
      },
      "outputs": [
        {
          "output_type": "stream",
          "name": "stdout",
          "text": [
            "[0 1 2 3 4 5 6 7 8 9]\n"
          ]
        }
      ],
      "source": [
        "# 1D array ranging from 0 to 9\n",
        "\n",
        "my_array = np.arange(10)\n",
        "\n",
        "print(my_array)"
      ]
    },
    {
      "cell_type": "code",
      "source": [
        "# 2D array with shape (3 , 4) filled with zeros\n",
        "\n",
        "my_2darray = np.zeros((3 , 4))\n",
        "print(my_2darray)"
      ],
      "metadata": {
        "colab": {
          "base_uri": "https://localhost:8080/"
        },
        "id": "izkt9HsC3qN8",
        "outputId": "f66be79b-c2f1-48ea-f17c-77fe64278be1"
      },
      "execution_count": null,
      "outputs": [
        {
          "output_type": "stream",
          "name": "stdout",
          "text": [
            "[[0. 0. 0. 0.]\n",
            " [0. 0. 0. 0.]\n",
            " [0. 0. 0. 0.]]\n"
          ]
        }
      ]
    },
    {
      "cell_type": "code",
      "source": [
        "#Create array with 10 equally\n",
        "\n",
        "\n",
        "my_array = np.linspace(0, 1, 10)\n",
        "\n",
        "print(my_array)"
      ],
      "metadata": {
        "colab": {
          "base_uri": "https://localhost:8080/"
        },
        "id": "Njbo03U44Ikx",
        "outputId": "fe3fc5dd-b5de-4e89-8c4a-84bfb23e8492"
      },
      "execution_count": null,
      "outputs": [
        {
          "output_type": "stream",
          "name": "stdout",
          "text": [
            "[0.         0.11111111 0.22222222 0.33333333 0.44444444 0.55555556\n",
            " 0.66666667 0.77777778 0.88888889 1.        ]\n"
          ]
        }
      ]
    },
    {
      "cell_type": "code",
      "source": [
        "#create a matrix 3x3 with values between 0 and 1\n",
        "random_matrix = np.random.rand(3, 3)\n",
        "print(random_matrix)"
      ],
      "metadata": {
        "colab": {
          "base_uri": "https://localhost:8080/"
        },
        "id": "son57s6m6Ieb",
        "outputId": "1fec1fa4-bc79-4f0d-d8dd-67c82ca95681"
      },
      "execution_count": null,
      "outputs": [
        {
          "output_type": "stream",
          "name": "stdout",
          "text": [
            "[[0.96559928 0.85445254 0.19633568]\n",
            " [0.1341015  0.35278922 0.17858441]\n",
            " [0.81693604 0.10540562 0.20170666]]\n"
          ]
        }
      ]
    },
    {
      "cell_type": "code",
      "source": [
        "# array with all even integers between 10 and 50\n",
        "my_integer_array = np.arange(10 , 51 , 2)\n",
        "print(my_integer_array)"
      ],
      "metadata": {
        "colab": {
          "base_uri": "https://localhost:8080/"
        },
        "id": "EqIlDodj8dx8",
        "outputId": "8ec97a44-b4c1-4797-a58b-c9e3ace3abbe"
      },
      "execution_count": null,
      "outputs": [
        {
          "output_type": "stream",
          "name": "stdout",
          "text": [
            "[10 12 14 16 18 20 22 24 26 28 30 32 34 36 38 40 42 44 46 48 50]\n"
          ]
        }
      ]
    },
    {
      "cell_type": "code",
      "source": [
        "# Create a 5*5 identity matrix\n",
        "\n",
        "identity_matrix = np.identity(5)\n",
        "\n",
        "# Print the identity matrix\n",
        "print(identity_matrix)"
      ],
      "metadata": {
        "colab": {
          "base_uri": "https://localhost:8080/"
        },
        "id": "rk8EHshf9OIi",
        "outputId": "bc0e6ba5-5eca-48cf-962d-e588226d1a60"
      },
      "execution_count": null,
      "outputs": [
        {
          "output_type": "stream",
          "name": "stdout",
          "text": [
            "[[1. 0. 0. 0. 0.]\n",
            " [0. 1. 0. 0. 0.]\n",
            " [0. 0. 1. 0. 0.]\n",
            " [0. 0. 0. 1. 0.]\n",
            " [0. 0. 0. 0. 1.]]\n"
          ]
        }
      ]
    },
    {
      "cell_type": "code",
      "source": [
        "# Create an array with 20 logarithmically spaced values between 1 and 100\n",
        "\n",
        "log_spaced_values = np.logspace(0, 2, 20)\n",
        "\n",
        "# Print the array\n",
        "print(log_spaced_values)"
      ],
      "metadata": {
        "colab": {
          "base_uri": "https://localhost:8080/"
        },
        "id": "vTcgpptNAd-L",
        "outputId": "d810a3d6-a63c-4393-d4a0-11ecbf06be95"
      },
      "execution_count": null,
      "outputs": [
        {
          "output_type": "stream",
          "name": "stdout",
          "text": [
            "[  1.           1.27427499   1.62377674   2.06913808   2.6366509\n",
            "   3.35981829   4.2813324    5.45559478   6.95192796   8.8586679\n",
            "  11.28837892  14.38449888  18.32980711  23.35721469  29.76351442\n",
            "  37.92690191  48.32930239  61.58482111  78.47599704 100.        ]\n"
          ]
        }
      ]
    },
    {
      "cell_type": "code",
      "source": [
        "# Array Operations\n",
        "\n"
      ],
      "metadata": {
        "id": "VDa_DvXxBaCK"
      },
      "execution_count": null,
      "outputs": []
    }
  ]
}